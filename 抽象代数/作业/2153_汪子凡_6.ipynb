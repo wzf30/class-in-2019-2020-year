{
 "cells": [
  {
   "cell_type": "code",
   "execution_count": 68,
   "metadata": {},
   "outputs": [],
   "source": [
    "from abc import ABCMeta, abstractmethod\n",
    "\n",
    "class Commutative_Ring(metaclass = ABCMeta):              #定义抽象基类表示交换环\n",
    "    @abstractmethod\n",
    "    def __add__(self, other):                                 #定义子类必须要重载的运算符 + 和 *           \n",
    "        pass\n",
    "    \n",
    "    @abstractmethod\n",
    "    def __mul__(self, other):\n",
    "        pass"
   ]
  },
  {
   "cell_type": "code",
   "execution_count": 69,
   "metadata": {},
   "outputs": [
    {
     "name": "stdout",
     "output_type": "stream",
     "text": [
      "x1 * x1 = (0, 2)\n",
      "x1 + x2 = (2, 3), x2 + x1 = (2, 3)\n",
      "x1 * x2 = (-1, 3), x2 * x1 = (-1, 3)\n"
     ]
    }
   ],
   "source": [
    "class Complex_Number(Commutative_Ring):                    #定义复数, 为交换环的子类\n",
    "    def __init__(self, x, y):\n",
    "        self.x = x\n",
    "        self.y = y\n",
    "    \n",
    "    def __add__(self, other):\n",
    "        return Complex_Number(other.x + self.x, other.y + self.y)\n",
    "    \n",
    "    def __mul__(self, other):\n",
    "        return Complex_Number(other.x * self.x - other.y * self.y, other.x * self.y + other.y * self.x)\n",
    "    \n",
    "    def __str__(self):                                  #用复平面下的坐标来表示复数\n",
    "        return \"(\" + str(self.x) + \", \" + str(self.y) + \")\"\n",
    "\n",
    "#测试\n",
    "x1 = Complex_Number(1, 1)\n",
    "x2 = Complex_Number(1, 2) \n",
    "print(\"x1 * x1 = %s\"  %(x1 * x1))                                   #(1 + i) * (1 + i) = 2i               \n",
    "print(\"x1 + x2 = %s, x2 + x1 = %s\" %(x1 + x2, x2 + x1))            #(1 + i) + (1 + 2i) = 2 + 3i\n",
    "print(\"x1 * x2 = %s, x2 * x1 = %s\" %(x1 * x2, x2 * x1))            #(1 + i) * (1 + 2i) = -1 + 3i"
   ]
  },
  {
   "cell_type": "code",
   "execution_count": 70,
   "metadata": {},
   "outputs": [
    {
     "name": "stdout",
     "output_type": "stream",
     "text": [
      "y1 = (1, 1, 0...), y2 = (3, 2, 1, 0...)\n",
      "y1 * y1 * y1 = (1, 3, 3, 1, 0...)\n",
      "y1的加法逆元为  (-1, -1, 0...)\n",
      "y1 + y2 = (4, 3, 1, 0...), y1 * y2 = (3, 5, 3, 1, 0...)\n"
     ]
    }
   ],
   "source": [
    "class Real_Cofficient_Poly(Commutative_Ring):              #定义实系数多项式环, 为交换环的子类\n",
    "    def __init__(self, L):                                 #用一个列表记录多项式的系数，若是加法恒元，则为[]， 否则长度为deg + 1\n",
    "        self.L = L[:]\n",
    "    \n",
    "    def __add__(self, other):                               #重载加法\n",
    "        L1 = []\n",
    "        if(len(self.L) < len(other.L)):\n",
    "            for i in range (len(self.L)):\n",
    "                L1.append(self.L[i] + other.L[i])\n",
    "            L1 = L1 + other.L[len(self.L):]\n",
    "        else:\n",
    "            for i in range (len(other.L)):\n",
    "                L1.append(self.L[i] + other.L[i])\n",
    "            L1 = L1 + self.L[len(other.L):]\n",
    "        length = len(L1)\n",
    "        \n",
    "        while(length > 0 and L1[length-1] == 0):               #判断最高项系数是否为0\n",
    "            L1.pop()\n",
    "            length -= 1\n",
    "        return Real_Cofficient_Poly(L1)\n",
    "    \n",
    "    def __neg__(self):                                      #定义加法逆元的表示\n",
    "        L1 = self.L[:]\n",
    "        for i in range(len(L1)):\n",
    "            L1[i] = -L1[i]\n",
    "        return Real_Cofficient_Poly(L1)\n",
    "    \n",
    "    def __mul__(self, other):\n",
    "        if(len(self.L) == 0 or len(other.L) == 0):                #若是有一项是加法恒元\n",
    "            return Real_Cofficient_Poly([])\n",
    "        \n",
    "        L1 = [0 for i in range(len(self.L)+len(other.L) - 1)] #若是两个多项式都有次数的定义，则现在的degree = self.L.degree + other.L.degree\n",
    "        for i in range(len(self.L)):\n",
    "            for j in range(len(other.L)):\n",
    "                L1[i+j] += self.L[i] * other.L[j]\n",
    "        return Real_Cofficient_Poly(L1)\n",
    "    \n",
    "    def __str__(self):                                              #只表示出系数\n",
    "        if(len(self.L) == 0):\n",
    "            return \"(0, 0, 0...)\"\n",
    "        else:\n",
    "            s = \"(\" \n",
    "            for i in range(len(self.L)):\n",
    "                s += str(self.L[i]) + \", \"\n",
    "            s += \"0...)\"\n",
    "        return s\n",
    "            \n",
    "    \n",
    "#测试\n",
    "y1 = Real_Cofficient_Poly([1, 1])\n",
    "y2 = Real_Cofficient_Poly([3, 2, 1])\n",
    "print(\"y1 = %s, y2 = %s\" %(y1, y2))\n",
    "print(\"y1 * y1 * y1 = %s\"  %(y1 * y1 * y1))                      #(x +1)^3 = x^3 + 3x^2 + 3x + 1\n",
    "print(\"y1的加法逆元为  %s\" %(-y1))\n",
    "print(\"y1 + y2 = %s, y1 * y2 = %s\" %(y1 + y2, y1 * y2))              #(x +1)(x^2 + 2x + 3)= x^3 + 3x^2 + 5x + 3"
   ]
  },
  {
   "cell_type": "code",
   "execution_count": 71,
   "metadata": {},
   "outputs": [
    {
     "name": "stdout",
     "output_type": "stream",
     "text": [
      "z1 = [(1, 1, 0...), (3, 2, 1, 0...)], z2 = [(3, 0...), (0, 1, 0...)]\n",
      "z1 + z2 = [(9, 7, 4, 0...), (0, 3, 2, 1, 0...)]\n",
      "z1 * z2 = [(3, 3, 0...), (0, 3, 2, 1, 0...)]\n"
     ]
    }
   ],
   "source": [
    "class Frac_RealCoff_Poly(Commutative_Ring):                # 定义实系数多项式环的分式域, 为交换环的子类\n",
    "    def __init__(self, poly1, poly2):                                 #分式域的每个元素由两个多项式环元素构成\n",
    "        self.poly1 = Real_Cofficient_Poly(poly1.L)\n",
    "        self.poly2 = Real_Cofficient_Poly(poly2.L)\n",
    "    \n",
    "    def __add__(self, other):                               #重载加法, [a, b] + [c, d] = [ad + bc, bd]\n",
    "        return Frac_RealCoff_Poly(self.poly1 * other.poly2 + self.poly2 * other.poly1, self.poly2 * other.poly2)\n",
    "    \n",
    "    def __mul__(self, other):                                #重载乘法, [a, b] * [c, d] = [ac, bd]\n",
    "        return Frac_RealCoff_Poly(self.poly1 * other.poly1, self.poly2 * other.poly2)\n",
    "    \n",
    "    def __str__(self):\n",
    "        return \"[\" + str(self.poly1) + \", \" + str(self.poly2) + \"]\"\n",
    "\n",
    "#测试\n",
    "z1 = Frac_RealCoff_Poly(y1, y2)\n",
    "z2 = Frac_RealCoff_Poly(Real_Cofficient_Poly([3]), Real_Cofficient_Poly([0, 1]))\n",
    "print(\"z1 = %s, z2 = %s\" %(z1, z2))\n",
    "print(\"z1 + z2 = %s\" %(z1 + z2))\n",
    "print(\"z1 * z2 = %s\" %(z1 * z2))"
   ]
  }
 ],
 "metadata": {
  "kernelspec": {
   "display_name": "Python 3",
   "language": "python",
   "name": "python3"
  },
  "language_info": {
   "codemirror_mode": {
    "name": "ipython",
    "version": 3
   },
   "file_extension": ".py",
   "mimetype": "text/x-python",
   "name": "python",
   "nbconvert_exporter": "python",
   "pygments_lexer": "ipython3",
   "version": "3.7.0"
  }
 },
 "nbformat": 4,
 "nbformat_minor": 4
}
